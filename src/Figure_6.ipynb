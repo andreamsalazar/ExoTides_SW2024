{
 "cells": [
  {
   "cell_type": "code",
   "execution_count": null,
   "id": "0dece506-50dc-47f4-bea2-538bf3775216",
   "metadata": {},
   "outputs": [],
   "source": [
    "%run ExoTides_v1.ipynb"
   ]
  },
  {
   "cell_type": "code",
   "execution_count": null,
   "id": "a95a7dca-70f6-4dfc-8484-0874291f4cde",
   "metadata": {},
   "outputs": [],
   "source": [
    "## tau_sw and ps\n",
    "\n",
    "tausw_contour_list = 10**np.linspace(-4, 2,110)\n",
    "ps_contour_list = 10**np.linspace(-2, 3,100)*1e5\n",
    "alpha_contour_list = [0.1,0.2,0.3,0.4,0.5,0.6,0.7,0.8,0.9]\n",
    "M_star_list = [0.15, 0.2, 0.3, 0.4, 0.5, 0.6, 0.7, 0.8, 0.9, 1]\n",
    "tau_lw = 1\n",
    "eq_rot_contour_tauswps = np.zeros([len(M_star_list),len(alpha_contour_list),len(tausw_contour_list), len(ps_contour_list)])\n",
    "\n",
    "for m in range(len(M_star_list)):\n",
    "    M = M_star_list[m]*M_sun\n",
    "    mu_star = np.log10(M/M_sun)\n",
    "    L_star = L_sun*10**(4.101*mu_star**3 + 8.162*mu_star**2 + 7.108*mu_star)\n",
    "    a_midHZ = AU*(L_star/L_sun)**(1/2)\n",
    "    orbit_period = (a_midHZ**3 * 4* np.pi**2/(G*M))**(1/2)\n",
    "    n = 2*np.pi/orbit_period\n",
    "    for k in range(len(alpha_contour_list)):\n",
    "        alpha = alpha_contour_list[k]\n",
    "        for i in range(len(tausw_contour_list)):\n",
    "            alpha = alpha_contour_list[k]\n",
    "            for j in range(len(ps_contour_list)):\n",
    "                tau_sw = tausw_contour_list[i]\n",
    "                rot = eq_rotation_ana(M, R_E, a_midHZ, alpha, tau_sw, tau_lw, ps_contour_list[j], 90, 100, k2) # returns 2*sigma\n",
    "                eq_rot_contour_tauswps[m,k,i,j] = (rot/2+n)/(n)\n",
    "\n"
   ]
  },
  {
   "cell_type": "code",
   "execution_count": null,
   "id": "646283db-2f65-4cee-870b-6dfd6f32c5f2",
   "metadata": {},
   "outputs": [],
   "source": [
    "eq_rot_contour_tauswps_plot = eq_rot_contour_tauswps.reshape(5,2,9,110,100)*1\n",
    "#eq_rot_contour_tauswps_plot[eq_rot_contour_tauswps_plot == 1] = 'nan'\n",
    "fig, ax = plt.subplots(5,2, dpi = 150, figsize = (10,15),tight_layout = True)\n",
    "M_star_list_plot = np.array(M_star_list).reshape(5,2)\n",
    "letter = [['A','B'],['C','D'],['E','F'],['G','H'],['I','J']]\n",
    "for i in range(5):\n",
    "    for j in range(2):\n",
    "        M = M_star_list_plot[i,j]*M_sun\n",
    "        mu_star = np.log10(M/M_sun)\n",
    "        L_star = L_sun*10**(4.101*mu_star**3 + 8.162*mu_star**2 + 7.108*mu_star)\n",
    "        a_midHZ = AU*(L_star/L_sun)**(1/2)\n",
    "        orbit_period_midHZ = (a_midHZ**3 * 4* np.pi**2/(G*M))**(1/2)/(60*60*24)\n",
    "        c = ax[i,j].contourf(ps_contour_list/bar, tausw_contour_list, eq_rot_contour_tauswps_plot[i,j,2], levels = 30, cmap = 'viridis')\n",
    "        plt.colorbar(c, ax = ax[i,j],label = '$T_y/T_r$')\n",
    "        ax[i,j].plot(ps_contour_list/bar, 1*ps_contour_list/bar, 'w-')\n",
    "        ax[i,j].plot(ps_contour_list/bar, 1*(ps_contour_list/bar)**2, 'w--')\n",
    "        ax[i,j].contour(ps_contour_list/bar, tausw_contour_list, eq_rot_contour_tauswps_plot[i,j,2], levels = [1], colors = 'red')\n",
    "        ax[i,j].contour(ps_contour_list/bar, tausw_contour_list, eq_rot_contour_tauswps_plot[i,j,5], levels = [1], colors = 'orange')\n",
    "        ax[i,j].contour(ps_contour_list/bar, tausw_contour_list, eq_rot_contour_tauswps_plot[i,j,7], levels = [1], colors = 'yellow')\n",
    "        ax[i,j].contour(ps_contour_list/bar, tausw_contour_list, eq_rot_contour_tauswps_plot[i,j,-1], levels = [1], colors = 'blue')\n",
    "        # ax[i,j].text(0.05, 200, '$\\\\alpha = $' + str(alpha_contour_list[2]), color = 'red')\n",
    "        # ax[i,j].text(0.05, 100, '$\\\\alpha = $' + str(alpha_contour_list[5]), color = 'orange')\n",
    "        # ax[i,j].text(0.05, 45, '$\\\\alpha = $' + str(alpha_contour_list[7]), color = 'yellow')\n",
    "        ax[i,j].text(0.01, 200, '$M_* = $ ' + str(np.round(M/M_sun,2)) + '$M_\\odot$, a = ' + str(np.around(a_midHZ/AU,2)) + ' AU, $T_y = $ ' + str(np.around(orbit_period_midHZ,1)) + ' days')\n",
    "        ax[i,j].set_xscale('log')\n",
    "        ax[i,j].set_yscale('log')\n",
    "        ax[i,j].set_ylabel('$\\\\tau_{SW}$')\n",
    "        ax[i,j].set_xlabel('$p_s$ (bar)')\n",
    "        # ax[i,j].text(0.02, 2e-2, '$\\\\tau_{LW} \\propto p_s$', color ='white')\n",
    "        # ax[i,j].text(0.2, 1e-3, '$\\\\tau_{LW} \\propto p_s^2$', color ='white')\n",
    "        ax[i,j].set_ylim(1e-4, 1e2)\n",
    "        #ax[i,j].title('$M_* = 0.5M_\\odot, a = 0.2$ AU')\n",
    "        \n",
    "        \n",
    "        ax[i,j].text(-0.2, 1.1, np.array(letter)[i,j], transform=ax[i,j].transAxes, size=13, weight='bold')\n",
    "#plt.savefig('./Paper Plots/SW_2023_Figure6.pdf', bbox_inches='tight')"
   ]
  }
 ],
 "metadata": {
  "kernelspec": {
   "display_name": "Python 3",
   "language": "python",
   "name": "python3"
  },
  "language_info": {
   "codemirror_mode": {
    "name": "ipython",
    "version": 3
   },
   "file_extension": ".py",
   "mimetype": "text/x-python",
   "name": "python",
   "nbconvert_exporter": "python",
   "pygments_lexer": "ipython3",
   "version": "3.8.8"
  }
 },
 "nbformat": 4,
 "nbformat_minor": 5
}
