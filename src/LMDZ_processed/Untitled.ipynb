{
 "cells": [
  {
   "cell_type": "code",
   "execution_count": 1,
   "id": "01212ca8-b1fa-4c0c-80c1-8c21f280f311",
   "metadata": {},
   "outputs": [],
   "source": [
    "import numpy as np\n",
    "import matplotlib.pyplot as plt\n",
    "from scipy.integrate import solve_ivp\n",
    "from scipy.integrate import odeint\n",
    "from scipy.integrate import quad\n",
    "from scipy.integrate import quad\n",
    "from scipy.special import sph_harm\n",
    "from scipy.optimize import fsolve\n",
    "import time\n",
    "\n",
    "S = 600*(1-0.2)\n",
    "sigma_SB = 5.67e-8\n",
    "g = 9.8\n",
    "cp = 1000\n",
    "bar = 10**5\n",
    "z = 1000\n",
    "H = 8500\n",
    "R = 188 # Earth-like composition\n",
    "Tskin = 2**(-1/4) * (S/(4*sigma_SB))**(1/4)\n",
    "Cs_land = 1000000 # LMDZ\n",
    "\n",
    "Cs_atm = cp*1*bar/g\n",
    "\n",
    "n = 2*np.pi/(224*60*60*24)\n",
    "D = 1.66\n",
    "\n",
    "\n",
    "# define bounds of sensitivity tests\n",
    "\n",
    "tau_lw_list = 10**np.linspace(-3,2, 20)\n",
    "tau_sw_list = 10**np.linspace(-3,1, 20)\n",
    "n = 2*np.pi/(224*60*60*24) # Venus, orbital period of 224 days\n",
    "Omega_list = np.linspace(-15*n, 15*n, 31)\n",
    "S_list = np.linspace(0.25*1366, 1.5*1366, 30)\n",
    "alpha_list = np.linspace(0.05,0.9, 10)\n",
    "ps_list = 10**np.linspace(-1, 2, 10)\n"
   ]
  },
  {
   "cell_type": "code",
   "execution_count": 2,
   "id": "ad8cb673-63be-4d2f-a6af-8d47e0b3724c",
   "metadata": {},
   "outputs": [],
   "source": [
    "def p_from_T(save, mean_p,tau_lw, tau_sw, S_in):\n",
    "    k = tau_sw/tau_lw\n",
    "    SLW = S_in/8*(1+D/k - (1+D/k)*np.exp(-k*tau_lw))\n",
    "    F_bar = quad(lambda lam: S_in*np.exp(-tau_sw)*np.maximum(np.cos(lam),0), 0, 2*np.pi)[0]/(2*np.pi)\n",
    "    T_bar = np.power((F_bar+SLW)/sigma_SB,1/4)\n",
    "    z = 1500\n",
    "    R = 188\n",
    "    H = R*save/g\n",
    "    rho_o = mean_p/(R*T_bar)\n",
    "    #p = mean_p-mean_p*cp/R*(save-mean_T)/mean_T\n",
    "    p = mean_p-rho_o*g*z*(save)/T_bar *(tau_lw)**(1/3)\n",
    "\n",
    "    return(p)\n",
    "\n",
    "def pressure(phi_int, which, lam):\n",
    "    return(np.interp(phi_int, lam, which))\n",
    "\n",
    "def complex_mom_pressure(m, which, x_data):\n",
    "    p2_imag = quad(lambda phi: np.imag(np.conj(sph_harm(m,2,phi,np.pi/2))) * pressure(phi, which, x_data), 0, 2*np.pi)[0]\n",
    "    p2_real = quad(lambda phi: np.real(np.conj(sph_harm(m,2,phi,np.pi/2))) * pressure(phi, which, x_data), 0, 2*np.pi)[0]\n",
    "    return(p2_real + 1j*p2_imag)\n",
    "\n",
    "def quad_moment_1d(data, x_data, press,tau_lw, tau_sw, S_in):\n",
    "    p_save = p_from_T(data, press,tau_lw, tau_sw, S_in)\n",
    "    p22 = complex_mom_pressure(2, np.array(p_save), x_data)\n",
    "    p2m2 = complex_mom_pressure(-2, np.array(p_save), x_data)\n",
    "    arg = np.arctan(np.imag(p22)/np.real(p22))\n",
    "    offset = np.sin(2*0 - arg)\n",
    "    curve = p22*sph_harm(2,2, x_data, np.pi/2)+ p2m2*sph_harm(-2,2, x_data, np.pi/2)\n",
    "    amp = (np.max(curve) - np.min(curve))/2\n",
    "    im_qa = np.absolute(p22) * offset\n",
    "    return([np.absolute(p22), im_qa, offset, curve])\n",
    "\n",
    "def get_torque_info(sol, ps, lam_plot,tau_lw, tau_sw, S_in):\n",
    "\n",
    "    im_q = np.zeros(len(sol))\n",
    "    amp = np.zeros(len(sol))\n",
    "    lag = np.zeros(len(sol))\n",
    "\n",
    "    for i in range(len(sol)):\n",
    "        im_q[i] = quad_moment_1d(sol[i,:], lam_plot, ps,tau_lw, tau_sw, S_in)[1]\n",
    "        amp[i] = quad_moment_1d(sol[i,:], lam_plot, ps,tau_lw, tau_sw, S_in)[0]\n",
    "        lag[i] = quad_moment_1d(sol[i,:], lam_plot, ps,tau_lw, tau_sw, S_in)[2]\n",
    "    return(im_q, amp, lag)"
   ]
  },
  {
   "cell_type": "code",
   "execution_count": 29,
   "id": "531f27d4-e69a-411b-8d69-412dffbb7bbe",
   "metadata": {},
   "outputs": [],
   "source": [
    "def T_lam_locked(dT, lam, S, F_bar, T_bar): # for zero forcing, use fsolve \n",
    "    cos_zenith = np.cos(lam)\n",
    "    return((S*np.maximum(cos_zenith,0) - F_bar - 4*sigma_SB*T_bar**3*dT)) # dTdt = F_in - F_out # dTdt = F_in - F_out \n",
    "\n",
    "def ddTdlam(lam, dT, T_bar, F_bar, forcing, Cs, S): \n",
    "    cos_zenith = np.cos(lam)\n",
    "    return((S*np.maximum(cos_zenith,0) - F_bar - 4*sigma_SB*T_bar**3*dT)/(forcing*Cs)) # dTdt = F_in - F_out\n",
    "\n",
    "def do_T_lam_locked(tau_lw, tau_sw, S_in, lam_plot, guess):\n",
    "    lam_list = np.linspace(0, 2*np.pi, 200)\n",
    "    sol = np.zeros(len(lam_list))\n",
    "    k = tau_sw/tau_lw\n",
    "    SLW = S_in/8*(1+D/k - (1+D/k)*np.exp(-k*tau_lw))\n",
    "    F_bar = quad(lambda lam: S_in*np.maximum(np.cos(lam),0), 0, 2*np.pi)[0]/(2*np.pi)\n",
    "    T_bar = np.power((F_bar+SLW)/sigma_SB,1/4)\n",
    "    j = 0\n",
    "    for lam in lam_list:\n",
    "        sol[j] = fsolve(T_lam_locked, guess, args = (lam, S_in, F_bar, T_bar))\n",
    "        j +=1\n",
    "    return(np.interp(lam_plot,lam_list, sol))\n",
    "\n",
    "\n",
    "def T_lam_centered(forcing, ps, S_in, periods_needed, res, N_cycles, z, tau_sw, tau_lw, guess):\n",
    "    S_model = S_in*np.exp(-tau_sw)\n",
    "    lamda = 0\n",
    "    delt_p = ps*(1-np.exp(-1000/H))\n",
    "    Cs = delt_p/g * cp + Cs_land\n",
    "    #lam_list = np.linspace(0, (periods_needed+N_cycles)*(2*np.pi), res*(periods_needed+N_cycles))\n",
    "    if forcing > 0: # super-syncronous\n",
    "        lam_list = np.linspace(0, 2*np.pi, res)\n",
    "        lam_list_full = np.linspace(0, (periods_needed+N_cycles)*(2*np.pi), res*(periods_needed+N_cycles))\n",
    "    elif forcing < 0: # sub-syncronous\n",
    "        lam_list = np.linspace(2*np.pi,0, res)\n",
    "        lam_list_full = np.linspace((periods_needed+N_cycles)*(2*np.pi), 0, res*(periods_needed+N_cycles))\n",
    "    lammin = lam_list[0]\n",
    "    lammax = lam_list[-1]\n",
    "    T0 = 0\n",
    "    k = tau_sw/tau_lw\n",
    "    SLW = S_in/8*(1+D/k - (1+D/k)*np.exp(-k*tau_lw))\n",
    "    F_bar = quad(lambda lam: S_in*np.maximum(np.cos(lam),0), 0, 2*np.pi)[0]/(2*np.pi)\n",
    "    T_bar = np.power((F_bar+SLW)/sigma_SB,1/4)\n",
    "    print(T_bar)\n",
    "    T_phi = np.zeros(len(lam_list_full))\n",
    "    sol = odeint(ddTdlam, T0, lam_list_full,args = (T_bar, F_bar,forcing, Cs, S_model), tfirst=True)\n",
    "    sol_stacked = np.reshape(sol, [N_cycles+periods_needed, res])\n",
    "\n",
    "    avg_stacked = np.nanmean(sol_stacked[-N_cycles:,:], axis = 0)\n",
    "    sorted_index = np.argsort(lam_list)\n",
    "    return(avg_stacked[sorted_index])\n"
   ]
  },
  {
   "cell_type": "code",
   "execution_count": 30,
   "id": "e50c7420-b0e4-4ca0-8413-a2267a3e49c6",
   "metadata": {},
   "outputs": [],
   "source": [
    "def run_ExoTides(tau_lw, tau_sw, ps, n,res, periods_needed, S_in, Omega_list, guess):\n",
    "    Tskin = 2**(-1/4) * (S_in/(4*sigma_SB))**(1/4)\n",
    "    delt_p = ps*(1-np.exp(-z/H)) \n",
    "    Cs = delt_p/g * cp\n",
    "    N_cycles = 40\n",
    "    lam_plot = np.linspace(0, 2*np.pi, res)\n",
    "    sol = np.zeros([len(Omega_list), len(lam_plot)])\n",
    "    #start_time = time.time()\n",
    "    for i in range(len(Omega_list)):\n",
    "        Omega = Omega_list[i]\n",
    "        forcing = Omega-n\n",
    "        if np.isclose(forcing,0, rtol = 1e-2):\n",
    "            sol[i,:] = do_T_lam_locked(tau_lw, tau_sw, S_in, lam_plot, guess)\n",
    "        else:\n",
    "            sol[i,:] = T_lam_centered(forcing, ps, S_in, periods_needed, res, N_cycles, z, tau_sw, tau_lw, guess)\n",
    "            \n",
    "\n",
    "    #end_time = time.time()\n",
    "    \n",
    "    #print(end_time - start_time)\n",
    "    return(sol)\n"
   ]
  },
  {
   "cell_type": "code",
   "execution_count": 35,
   "id": "f03c019e-1dcc-429f-a7cb-30760b28c8c8",
   "metadata": {},
   "outputs": [],
   "source": [
    "Omega_list = [1*n]#np.linspace(5*n, 15*n, 20)\n",
    "\n",
    "sol_spinup = run_ExoTides(1, 0.00001, 1*bar, n,1000, 600, 1137*(0.8), Omega_list, 300)"
   ]
  },
  {
   "cell_type": "code",
   "execution_count": 38,
   "id": "9b67e869-904f-4cf2-9eee-a685d2c939bf",
   "metadata": {},
   "outputs": [
    {
     "data": {
      "image/png": "[encoded data removed]",
      "text/plain": [
       "<Figure size 432x288 with 1 Axes>"
      ]
     },
     "metadata": {
      "needs_background": "light"
     },
     "output_type": "display_data"
    }
   ],
   "source": [
    "lam_list = np.linspace(0,2*np.pi, len(sol_spinup[0,:]))\n",
    "S_in = 1137*0.8\n",
    "tau_lw = 1\n",
    "tau_sw = 0.00001\n",
    "k = tau_sw/tau_lw\n",
    "SLW = S_in/8*(1+D/k - (1+D/k)*np.exp(-k*tau_lw))\n",
    "F_bar = quad(lambda lam: S_in*np.exp(-tau_sw)*np.maximum(np.cos(lam),0), 0, 2*np.pi)[0]/(2*np.pi)\n",
    "T_bar = np.power((F_bar+SLW)/sigma_SB,1/4)\n",
    "    \n",
    "    \n",
    "    \n",
    "    \n",
    "for i in range(len(Omega_list)):\n",
    "    plt.plot(lam_list, sol_spinup[i,:])\n",
    "#plt.ylim(230,400)  "
   ]
  },
  {
   "cell_type": "code",
   "execution_count": 26,
   "id": "61fe6fdb-95e6-4e57-bce9-53a67c53d144",
   "metadata": {},
   "outputs": [
    {
     "data": {
      "text/plain": [
       "303.0563732702677"
      ]
     },
     "execution_count": 26,
     "metadata": {},
     "output_type": "execute_result"
    }
   ],
   "source": [
    "T_bar"
   ]
  },
  {
   "cell_type": "code",
   "execution_count": 46,
   "id": "2d39e2f6-8f1f-49bc-9c0d-6a0d7f754d37",
   "metadata": {},
   "outputs": [
    {
     "data": {
      "text/plain": [
       "[<matplotlib.lines.Line2D at 0x152e0371d640>]"
      ]
     },
     "execution_count": 46,
     "metadata": {},
     "output_type": "execute_result"
    },
    {
     "data": {
      "image/png": "[encoded data removed]",
      "text/plain": [
       "<Figure size 432x288 with 1 Axes>"
      ]
     },
     "metadata": {
      "needs_background": "light"
     },
     "output_type": "display_data"
    }
   ],
   "source": [
    "delt_T = np.linspace(0,200,100)\n",
    "\n",
    "plt.plot(delt_T, (T_bar+delt_T)**4)\n",
    "plt.plot(delt_T, T_bar**4*(1+4*delt_T/T_bar))"
   ]
  },
  {
   "cell_type": "code",
   "execution_count": null,
   "id": "ca7776ce-4555-4aca-ae29-d4149d0ee879",
   "metadata": {},
   "outputs": [],
   "source": []
  }
 ],
 "metadata": {
  "kernelspec": {
   "display_name": "Python 3",
   "language": "python",
   "name": "python3"
  },
  "language_info": {
   "codemirror_mode": {
    "name": "ipython",
    "version": 3
   },
   "file_extension": ".py",
   "mimetype": "text/x-python",
   "name": "python",
   "nbconvert_exporter": "python",
   "pygments_lexer": "ipython3",
   "version": "3.8.8"
  }
 },
 "nbformat": 4,
 "nbformat_minor": 5
}
